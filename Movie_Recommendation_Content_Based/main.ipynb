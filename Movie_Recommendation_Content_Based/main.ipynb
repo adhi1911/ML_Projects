{
 "cells": [
  {
   "cell_type": "code",
   "execution_count": 40,
   "id": "68ea43b0",
   "metadata": {
    "_cell_guid": "b1076dfc-b9ad-4769-8c92-a6c4dae69d19",
    "_uuid": "8f2839f25d086af736a60e9eeb907d3b93b6e0e5",
    "execution": {
     "iopub.execute_input": "2024-05-23T07:23:52.705822Z",
     "iopub.status.busy": "2024-05-23T07:23:52.705015Z",
     "iopub.status.idle": "2024-05-23T07:23:56.381136Z",
     "shell.execute_reply": "2024-05-23T07:23:56.380099Z"
    },
    "papermill": {
     "duration": 3.6939,
     "end_time": "2024-05-23T07:23:56.384135",
     "exception": false,
     "start_time": "2024-05-23T07:23:52.690235",
     "status": "completed"
    },
    "tags": []
   },
   "outputs": [],
   "source": [
    "import pandas as pd\n",
    "import numpy as np\n",
    "\n",
    "from sklearn.feature_extraction.text import CountVectorizer\n",
    "from nltk.stem.porter import PorterStemmer\n",
    "from sklearn.metrics.pairwise import cosine_similarity\n",
    "import pickle"
   ]
  },
  {
   "cell_type": "code",
   "execution_count": 7,
   "id": "7b009642",
   "metadata": {
    "execution": {
     "iopub.execute_input": "2024-05-23T07:23:56.412753Z",
     "iopub.status.busy": "2024-05-23T07:23:56.411476Z",
     "iopub.status.idle": "2024-05-23T07:23:57.604030Z",
     "shell.execute_reply": "2024-05-23T07:23:57.602738Z"
    },
    "papermill": {
     "duration": 1.209521,
     "end_time": "2024-05-23T07:23:57.606905",
     "exception": false,
     "start_time": "2024-05-23T07:23:56.397384",
     "status": "completed"
    },
    "tags": []
   },
   "outputs": [],
   "source": [
    "# credits = pd.read_csv(\"/kaggle/input/tmdb-movie-metadata/tmdb_5000_credits.csv\")\n",
    "# movies = pd.read_csv(\"/kaggle/input/tmdb-movie-metadata/tmdb_5000_movies.csv\")\n",
    "\n",
    "credits = pd.read_csv(\"tmdb_5000_credits.csv\")\n",
    "movies = pd.read_csv(\"tmdb_5000_movies.csv\")"
   ]
  },
  {
   "cell_type": "code",
   "execution_count": 8,
   "id": "5f4c4cb3",
   "metadata": {
    "execution": {
     "iopub.execute_input": "2024-05-23T07:23:57.633702Z",
     "iopub.status.busy": "2024-05-23T07:23:57.633274Z",
     "iopub.status.idle": "2024-05-23T07:23:57.667781Z",
     "shell.execute_reply": "2024-05-23T07:23:57.666018Z"
    },
    "papermill": {
     "duration": 0.051228,
     "end_time": "2024-05-23T07:23:57.670664",
     "exception": false,
     "start_time": "2024-05-23T07:23:57.619436",
     "status": "completed"
    },
    "tags": []
   },
   "outputs": [
    {
     "data": {
      "text/html": [
       "<div>\n",
       "<style scoped>\n",
       "    .dataframe tbody tr th:only-of-type {\n",
       "        vertical-align: middle;\n",
       "    }\n",
       "\n",
       "    .dataframe tbody tr th {\n",
       "        vertical-align: top;\n",
       "    }\n",
       "\n",
       "    .dataframe thead th {\n",
       "        text-align: right;\n",
       "    }\n",
       "</style>\n",
       "<table border=\"1\" class=\"dataframe\">\n",
       "  <thead>\n",
       "    <tr style=\"text-align: right;\">\n",
       "      <th></th>\n",
       "      <th>movie_id</th>\n",
       "      <th>title</th>\n",
       "      <th>cast</th>\n",
       "      <th>crew</th>\n",
       "    </tr>\n",
       "  </thead>\n",
       "  <tbody>\n",
       "    <tr>\n",
       "      <th>0</th>\n",
       "      <td>19995</td>\n",
       "      <td>Avatar</td>\n",
       "      <td>[{\"cast_id\": 242, \"character\": \"Jake Sully\", \"...</td>\n",
       "      <td>[{\"credit_id\": \"52fe48009251416c750aca23\", \"de...</td>\n",
       "    </tr>\n",
       "    <tr>\n",
       "      <th>1</th>\n",
       "      <td>285</td>\n",
       "      <td>Pirates of the Caribbean: At World's End</td>\n",
       "      <td>[{\"cast_id\": 4, \"character\": \"Captain Jack Spa...</td>\n",
       "      <td>[{\"credit_id\": \"52fe4232c3a36847f800b579\", \"de...</td>\n",
       "    </tr>\n",
       "    <tr>\n",
       "      <th>2</th>\n",
       "      <td>206647</td>\n",
       "      <td>Spectre</td>\n",
       "      <td>[{\"cast_id\": 1, \"character\": \"James Bond\", \"cr...</td>\n",
       "      <td>[{\"credit_id\": \"54805967c3a36829b5002c41\", \"de...</td>\n",
       "    </tr>\n",
       "    <tr>\n",
       "      <th>3</th>\n",
       "      <td>49026</td>\n",
       "      <td>The Dark Knight Rises</td>\n",
       "      <td>[{\"cast_id\": 2, \"character\": \"Bruce Wayne / Ba...</td>\n",
       "      <td>[{\"credit_id\": \"52fe4781c3a36847f81398c3\", \"de...</td>\n",
       "    </tr>\n",
       "    <tr>\n",
       "      <th>4</th>\n",
       "      <td>49529</td>\n",
       "      <td>John Carter</td>\n",
       "      <td>[{\"cast_id\": 5, \"character\": \"John Carter\", \"c...</td>\n",
       "      <td>[{\"credit_id\": \"52fe479ac3a36847f813eaa3\", \"de...</td>\n",
       "    </tr>\n",
       "    <tr>\n",
       "      <th>...</th>\n",
       "      <td>...</td>\n",
       "      <td>...</td>\n",
       "      <td>...</td>\n",
       "      <td>...</td>\n",
       "    </tr>\n",
       "    <tr>\n",
       "      <th>4798</th>\n",
       "      <td>9367</td>\n",
       "      <td>El Mariachi</td>\n",
       "      <td>[{\"cast_id\": 1, \"character\": \"El Mariachi\", \"c...</td>\n",
       "      <td>[{\"credit_id\": \"52fe44eec3a36847f80b280b\", \"de...</td>\n",
       "    </tr>\n",
       "    <tr>\n",
       "      <th>4799</th>\n",
       "      <td>72766</td>\n",
       "      <td>Newlyweds</td>\n",
       "      <td>[{\"cast_id\": 1, \"character\": \"Buzzy\", \"credit_...</td>\n",
       "      <td>[{\"credit_id\": \"52fe487dc3a368484e0fb013\", \"de...</td>\n",
       "    </tr>\n",
       "    <tr>\n",
       "      <th>4800</th>\n",
       "      <td>231617</td>\n",
       "      <td>Signed, Sealed, Delivered</td>\n",
       "      <td>[{\"cast_id\": 8, \"character\": \"Oliver O\\u2019To...</td>\n",
       "      <td>[{\"credit_id\": \"52fe4df3c3a36847f8275ecf\", \"de...</td>\n",
       "    </tr>\n",
       "    <tr>\n",
       "      <th>4801</th>\n",
       "      <td>126186</td>\n",
       "      <td>Shanghai Calling</td>\n",
       "      <td>[{\"cast_id\": 3, \"character\": \"Sam\", \"credit_id...</td>\n",
       "      <td>[{\"credit_id\": \"52fe4ad9c3a368484e16a36b\", \"de...</td>\n",
       "    </tr>\n",
       "    <tr>\n",
       "      <th>4802</th>\n",
       "      <td>25975</td>\n",
       "      <td>My Date with Drew</td>\n",
       "      <td>[{\"cast_id\": 3, \"character\": \"Herself\", \"credi...</td>\n",
       "      <td>[{\"credit_id\": \"58ce021b9251415a390165d9\", \"de...</td>\n",
       "    </tr>\n",
       "  </tbody>\n",
       "</table>\n",
       "<p>4803 rows × 4 columns</p>\n",
       "</div>"
      ],
      "text/plain": [
       "      movie_id                                     title  \\\n",
       "0        19995                                    Avatar   \n",
       "1          285  Pirates of the Caribbean: At World's End   \n",
       "2       206647                                   Spectre   \n",
       "3        49026                     The Dark Knight Rises   \n",
       "4        49529                               John Carter   \n",
       "...        ...                                       ...   \n",
       "4798      9367                               El Mariachi   \n",
       "4799     72766                                 Newlyweds   \n",
       "4800    231617                 Signed, Sealed, Delivered   \n",
       "4801    126186                          Shanghai Calling   \n",
       "4802     25975                         My Date with Drew   \n",
       "\n",
       "                                                   cast  \\\n",
       "0     [{\"cast_id\": 242, \"character\": \"Jake Sully\", \"...   \n",
       "1     [{\"cast_id\": 4, \"character\": \"Captain Jack Spa...   \n",
       "2     [{\"cast_id\": 1, \"character\": \"James Bond\", \"cr...   \n",
       "3     [{\"cast_id\": 2, \"character\": \"Bruce Wayne / Ba...   \n",
       "4     [{\"cast_id\": 5, \"character\": \"John Carter\", \"c...   \n",
       "...                                                 ...   \n",
       "4798  [{\"cast_id\": 1, \"character\": \"El Mariachi\", \"c...   \n",
       "4799  [{\"cast_id\": 1, \"character\": \"Buzzy\", \"credit_...   \n",
       "4800  [{\"cast_id\": 8, \"character\": \"Oliver O\\u2019To...   \n",
       "4801  [{\"cast_id\": 3, \"character\": \"Sam\", \"credit_id...   \n",
       "4802  [{\"cast_id\": 3, \"character\": \"Herself\", \"credi...   \n",
       "\n",
       "                                                   crew  \n",
       "0     [{\"credit_id\": \"52fe48009251416c750aca23\", \"de...  \n",
       "1     [{\"credit_id\": \"52fe4232c3a36847f800b579\", \"de...  \n",
       "2     [{\"credit_id\": \"54805967c3a36829b5002c41\", \"de...  \n",
       "3     [{\"credit_id\": \"52fe4781c3a36847f81398c3\", \"de...  \n",
       "4     [{\"credit_id\": \"52fe479ac3a36847f813eaa3\", \"de...  \n",
       "...                                                 ...  \n",
       "4798  [{\"credit_id\": \"52fe44eec3a36847f80b280b\", \"de...  \n",
       "4799  [{\"credit_id\": \"52fe487dc3a368484e0fb013\", \"de...  \n",
       "4800  [{\"credit_id\": \"52fe4df3c3a36847f8275ecf\", \"de...  \n",
       "4801  [{\"credit_id\": \"52fe4ad9c3a368484e16a36b\", \"de...  \n",
       "4802  [{\"credit_id\": \"58ce021b9251415a390165d9\", \"de...  \n",
       "\n",
       "[4803 rows x 4 columns]"
      ]
     },
     "execution_count": 8,
     "metadata": {},
     "output_type": "execute_result"
    }
   ],
   "source": [
    "credits"
   ]
  },
  {
   "cell_type": "code",
   "execution_count": 9,
   "id": "abfbf3da",
   "metadata": {
    "execution": {
     "iopub.execute_input": "2024-05-23T07:23:57.699029Z",
     "iopub.status.busy": "2024-05-23T07:23:57.698627Z",
     "iopub.status.idle": "2024-05-23T07:23:57.734342Z",
     "shell.execute_reply": "2024-05-23T07:23:57.732856Z"
    },
    "papermill": {
     "duration": 0.053438,
     "end_time": "2024-05-23T07:23:57.737572",
     "exception": false,
     "start_time": "2024-05-23T07:23:57.684134",
     "status": "completed"
    },
    "tags": []
   },
   "outputs": [
    {
     "data": {
      "text/html": [
       "<div>\n",
       "<style scoped>\n",
       "    .dataframe tbody tr th:only-of-type {\n",
       "        vertical-align: middle;\n",
       "    }\n",
       "\n",
       "    .dataframe tbody tr th {\n",
       "        vertical-align: top;\n",
       "    }\n",
       "\n",
       "    .dataframe thead th {\n",
       "        text-align: right;\n",
       "    }\n",
       "</style>\n",
       "<table border=\"1\" class=\"dataframe\">\n",
       "  <thead>\n",
       "    <tr style=\"text-align: right;\">\n",
       "      <th></th>\n",
       "      <th>budget</th>\n",
       "      <th>genres</th>\n",
       "      <th>homepage</th>\n",
       "      <th>id</th>\n",
       "      <th>keywords</th>\n",
       "      <th>original_language</th>\n",
       "      <th>original_title</th>\n",
       "      <th>overview</th>\n",
       "      <th>popularity</th>\n",
       "      <th>production_companies</th>\n",
       "      <th>production_countries</th>\n",
       "      <th>release_date</th>\n",
       "      <th>revenue</th>\n",
       "      <th>runtime</th>\n",
       "      <th>spoken_languages</th>\n",
       "      <th>status</th>\n",
       "      <th>tagline</th>\n",
       "      <th>title</th>\n",
       "      <th>vote_average</th>\n",
       "      <th>vote_count</th>\n",
       "    </tr>\n",
       "  </thead>\n",
       "  <tbody>\n",
       "    <tr>\n",
       "      <th>0</th>\n",
       "      <td>237000000</td>\n",
       "      <td>[{\"id\": 28, \"name\": \"Action\"}, {\"id\": 12, \"nam...</td>\n",
       "      <td>http://www.avatarmovie.com/</td>\n",
       "      <td>19995</td>\n",
       "      <td>[{\"id\": 1463, \"name\": \"culture clash\"}, {\"id\":...</td>\n",
       "      <td>en</td>\n",
       "      <td>Avatar</td>\n",
       "      <td>In the 22nd century, a paraplegic Marine is di...</td>\n",
       "      <td>150.437577</td>\n",
       "      <td>[{\"name\": \"Ingenious Film Partners\", \"id\": 289...</td>\n",
       "      <td>[{\"iso_3166_1\": \"US\", \"name\": \"United States o...</td>\n",
       "      <td>2009-12-10</td>\n",
       "      <td>2787965087</td>\n",
       "      <td>162.0</td>\n",
       "      <td>[{\"iso_639_1\": \"en\", \"name\": \"English\"}, {\"iso...</td>\n",
       "      <td>Released</td>\n",
       "      <td>Enter the World of Pandora.</td>\n",
       "      <td>Avatar</td>\n",
       "      <td>7.2</td>\n",
       "      <td>11800</td>\n",
       "    </tr>\n",
       "    <tr>\n",
       "      <th>1</th>\n",
       "      <td>300000000</td>\n",
       "      <td>[{\"id\": 12, \"name\": \"Adventure\"}, {\"id\": 14, \"...</td>\n",
       "      <td>http://disney.go.com/disneypictures/pirates/</td>\n",
       "      <td>285</td>\n",
       "      <td>[{\"id\": 270, \"name\": \"ocean\"}, {\"id\": 726, \"na...</td>\n",
       "      <td>en</td>\n",
       "      <td>Pirates of the Caribbean: At World's End</td>\n",
       "      <td>Captain Barbossa, long believed to be dead, ha...</td>\n",
       "      <td>139.082615</td>\n",
       "      <td>[{\"name\": \"Walt Disney Pictures\", \"id\": 2}, {\"...</td>\n",
       "      <td>[{\"iso_3166_1\": \"US\", \"name\": \"United States o...</td>\n",
       "      <td>2007-05-19</td>\n",
       "      <td>961000000</td>\n",
       "      <td>169.0</td>\n",
       "      <td>[{\"iso_639_1\": \"en\", \"name\": \"English\"}]</td>\n",
       "      <td>Released</td>\n",
       "      <td>At the end of the world, the adventure begins.</td>\n",
       "      <td>Pirates of the Caribbean: At World's End</td>\n",
       "      <td>6.9</td>\n",
       "      <td>4500</td>\n",
       "    </tr>\n",
       "    <tr>\n",
       "      <th>2</th>\n",
       "      <td>245000000</td>\n",
       "      <td>[{\"id\": 28, \"name\": \"Action\"}, {\"id\": 12, \"nam...</td>\n",
       "      <td>http://www.sonypictures.com/movies/spectre/</td>\n",
       "      <td>206647</td>\n",
       "      <td>[{\"id\": 470, \"name\": \"spy\"}, {\"id\": 818, \"name...</td>\n",
       "      <td>en</td>\n",
       "      <td>Spectre</td>\n",
       "      <td>A cryptic message from Bond’s past sends him o...</td>\n",
       "      <td>107.376788</td>\n",
       "      <td>[{\"name\": \"Columbia Pictures\", \"id\": 5}, {\"nam...</td>\n",
       "      <td>[{\"iso_3166_1\": \"GB\", \"name\": \"United Kingdom\"...</td>\n",
       "      <td>2015-10-26</td>\n",
       "      <td>880674609</td>\n",
       "      <td>148.0</td>\n",
       "      <td>[{\"iso_639_1\": \"fr\", \"name\": \"Fran\\u00e7ais\"},...</td>\n",
       "      <td>Released</td>\n",
       "      <td>A Plan No One Escapes</td>\n",
       "      <td>Spectre</td>\n",
       "      <td>6.3</td>\n",
       "      <td>4466</td>\n",
       "    </tr>\n",
       "    <tr>\n",
       "      <th>3</th>\n",
       "      <td>250000000</td>\n",
       "      <td>[{\"id\": 28, \"name\": \"Action\"}, {\"id\": 80, \"nam...</td>\n",
       "      <td>http://www.thedarkknightrises.com/</td>\n",
       "      <td>49026</td>\n",
       "      <td>[{\"id\": 849, \"name\": \"dc comics\"}, {\"id\": 853,...</td>\n",
       "      <td>en</td>\n",
       "      <td>The Dark Knight Rises</td>\n",
       "      <td>Following the death of District Attorney Harve...</td>\n",
       "      <td>112.312950</td>\n",
       "      <td>[{\"name\": \"Legendary Pictures\", \"id\": 923}, {\"...</td>\n",
       "      <td>[{\"iso_3166_1\": \"US\", \"name\": \"United States o...</td>\n",
       "      <td>2012-07-16</td>\n",
       "      <td>1084939099</td>\n",
       "      <td>165.0</td>\n",
       "      <td>[{\"iso_639_1\": \"en\", \"name\": \"English\"}]</td>\n",
       "      <td>Released</td>\n",
       "      <td>The Legend Ends</td>\n",
       "      <td>The Dark Knight Rises</td>\n",
       "      <td>7.6</td>\n",
       "      <td>9106</td>\n",
       "    </tr>\n",
       "    <tr>\n",
       "      <th>4</th>\n",
       "      <td>260000000</td>\n",
       "      <td>[{\"id\": 28, \"name\": \"Action\"}, {\"id\": 12, \"nam...</td>\n",
       "      <td>http://movies.disney.com/john-carter</td>\n",
       "      <td>49529</td>\n",
       "      <td>[{\"id\": 818, \"name\": \"based on novel\"}, {\"id\":...</td>\n",
       "      <td>en</td>\n",
       "      <td>John Carter</td>\n",
       "      <td>John Carter is a war-weary, former military ca...</td>\n",
       "      <td>43.926995</td>\n",
       "      <td>[{\"name\": \"Walt Disney Pictures\", \"id\": 2}]</td>\n",
       "      <td>[{\"iso_3166_1\": \"US\", \"name\": \"United States o...</td>\n",
       "      <td>2012-03-07</td>\n",
       "      <td>284139100</td>\n",
       "      <td>132.0</td>\n",
       "      <td>[{\"iso_639_1\": \"en\", \"name\": \"English\"}]</td>\n",
       "      <td>Released</td>\n",
       "      <td>Lost in our world, found in another.</td>\n",
       "      <td>John Carter</td>\n",
       "      <td>6.1</td>\n",
       "      <td>2124</td>\n",
       "    </tr>\n",
       "    <tr>\n",
       "      <th>...</th>\n",
       "      <td>...</td>\n",
       "      <td>...</td>\n",
       "      <td>...</td>\n",
       "      <td>...</td>\n",
       "      <td>...</td>\n",
       "      <td>...</td>\n",
       "      <td>...</td>\n",
       "      <td>...</td>\n",
       "      <td>...</td>\n",
       "      <td>...</td>\n",
       "      <td>...</td>\n",
       "      <td>...</td>\n",
       "      <td>...</td>\n",
       "      <td>...</td>\n",
       "      <td>...</td>\n",
       "      <td>...</td>\n",
       "      <td>...</td>\n",
       "      <td>...</td>\n",
       "      <td>...</td>\n",
       "      <td>...</td>\n",
       "    </tr>\n",
       "    <tr>\n",
       "      <th>4798</th>\n",
       "      <td>220000</td>\n",
       "      <td>[{\"id\": 28, \"name\": \"Action\"}, {\"id\": 80, \"nam...</td>\n",
       "      <td>NaN</td>\n",
       "      <td>9367</td>\n",
       "      <td>[{\"id\": 5616, \"name\": \"united states\\u2013mexi...</td>\n",
       "      <td>es</td>\n",
       "      <td>El Mariachi</td>\n",
       "      <td>El Mariachi just wants to play his guitar and ...</td>\n",
       "      <td>14.269792</td>\n",
       "      <td>[{\"name\": \"Columbia Pictures\", \"id\": 5}]</td>\n",
       "      <td>[{\"iso_3166_1\": \"MX\", \"name\": \"Mexico\"}, {\"iso...</td>\n",
       "      <td>1992-09-04</td>\n",
       "      <td>2040920</td>\n",
       "      <td>81.0</td>\n",
       "      <td>[{\"iso_639_1\": \"es\", \"name\": \"Espa\\u00f1ol\"}]</td>\n",
       "      <td>Released</td>\n",
       "      <td>He didn't come looking for trouble, but troubl...</td>\n",
       "      <td>El Mariachi</td>\n",
       "      <td>6.6</td>\n",
       "      <td>238</td>\n",
       "    </tr>\n",
       "    <tr>\n",
       "      <th>4799</th>\n",
       "      <td>9000</td>\n",
       "      <td>[{\"id\": 35, \"name\": \"Comedy\"}, {\"id\": 10749, \"...</td>\n",
       "      <td>NaN</td>\n",
       "      <td>72766</td>\n",
       "      <td>[]</td>\n",
       "      <td>en</td>\n",
       "      <td>Newlyweds</td>\n",
       "      <td>A newlywed couple's honeymoon is upended by th...</td>\n",
       "      <td>0.642552</td>\n",
       "      <td>[]</td>\n",
       "      <td>[]</td>\n",
       "      <td>2011-12-26</td>\n",
       "      <td>0</td>\n",
       "      <td>85.0</td>\n",
       "      <td>[]</td>\n",
       "      <td>Released</td>\n",
       "      <td>A newlywed couple's honeymoon is upended by th...</td>\n",
       "      <td>Newlyweds</td>\n",
       "      <td>5.9</td>\n",
       "      <td>5</td>\n",
       "    </tr>\n",
       "    <tr>\n",
       "      <th>4800</th>\n",
       "      <td>0</td>\n",
       "      <td>[{\"id\": 35, \"name\": \"Comedy\"}, {\"id\": 18, \"nam...</td>\n",
       "      <td>http://www.hallmarkchannel.com/signedsealeddel...</td>\n",
       "      <td>231617</td>\n",
       "      <td>[{\"id\": 248, \"name\": \"date\"}, {\"id\": 699, \"nam...</td>\n",
       "      <td>en</td>\n",
       "      <td>Signed, Sealed, Delivered</td>\n",
       "      <td>\"Signed, Sealed, Delivered\" introduces a dedic...</td>\n",
       "      <td>1.444476</td>\n",
       "      <td>[{\"name\": \"Front Street Pictures\", \"id\": 3958}...</td>\n",
       "      <td>[{\"iso_3166_1\": \"US\", \"name\": \"United States o...</td>\n",
       "      <td>2013-10-13</td>\n",
       "      <td>0</td>\n",
       "      <td>120.0</td>\n",
       "      <td>[{\"iso_639_1\": \"en\", \"name\": \"English\"}]</td>\n",
       "      <td>Released</td>\n",
       "      <td>NaN</td>\n",
       "      <td>Signed, Sealed, Delivered</td>\n",
       "      <td>7.0</td>\n",
       "      <td>6</td>\n",
       "    </tr>\n",
       "    <tr>\n",
       "      <th>4801</th>\n",
       "      <td>0</td>\n",
       "      <td>[]</td>\n",
       "      <td>http://shanghaicalling.com/</td>\n",
       "      <td>126186</td>\n",
       "      <td>[]</td>\n",
       "      <td>en</td>\n",
       "      <td>Shanghai Calling</td>\n",
       "      <td>When ambitious New York attorney Sam is sent t...</td>\n",
       "      <td>0.857008</td>\n",
       "      <td>[]</td>\n",
       "      <td>[{\"iso_3166_1\": \"US\", \"name\": \"United States o...</td>\n",
       "      <td>2012-05-03</td>\n",
       "      <td>0</td>\n",
       "      <td>98.0</td>\n",
       "      <td>[{\"iso_639_1\": \"en\", \"name\": \"English\"}]</td>\n",
       "      <td>Released</td>\n",
       "      <td>A New Yorker in Shanghai</td>\n",
       "      <td>Shanghai Calling</td>\n",
       "      <td>5.7</td>\n",
       "      <td>7</td>\n",
       "    </tr>\n",
       "    <tr>\n",
       "      <th>4802</th>\n",
       "      <td>0</td>\n",
       "      <td>[{\"id\": 99, \"name\": \"Documentary\"}]</td>\n",
       "      <td>NaN</td>\n",
       "      <td>25975</td>\n",
       "      <td>[{\"id\": 1523, \"name\": \"obsession\"}, {\"id\": 224...</td>\n",
       "      <td>en</td>\n",
       "      <td>My Date with Drew</td>\n",
       "      <td>Ever since the second grade when he first saw ...</td>\n",
       "      <td>1.929883</td>\n",
       "      <td>[{\"name\": \"rusty bear entertainment\", \"id\": 87...</td>\n",
       "      <td>[{\"iso_3166_1\": \"US\", \"name\": \"United States o...</td>\n",
       "      <td>2005-08-05</td>\n",
       "      <td>0</td>\n",
       "      <td>90.0</td>\n",
       "      <td>[{\"iso_639_1\": \"en\", \"name\": \"English\"}]</td>\n",
       "      <td>Released</td>\n",
       "      <td>NaN</td>\n",
       "      <td>My Date with Drew</td>\n",
       "      <td>6.3</td>\n",
       "      <td>16</td>\n",
       "    </tr>\n",
       "  </tbody>\n",
       "</table>\n",
       "<p>4803 rows × 20 columns</p>\n",
       "</div>"
      ],
      "text/plain": [
       "         budget                                             genres  \\\n",
       "0     237000000  [{\"id\": 28, \"name\": \"Action\"}, {\"id\": 12, \"nam...   \n",
       "1     300000000  [{\"id\": 12, \"name\": \"Adventure\"}, {\"id\": 14, \"...   \n",
       "2     245000000  [{\"id\": 28, \"name\": \"Action\"}, {\"id\": 12, \"nam...   \n",
       "3     250000000  [{\"id\": 28, \"name\": \"Action\"}, {\"id\": 80, \"nam...   \n",
       "4     260000000  [{\"id\": 28, \"name\": \"Action\"}, {\"id\": 12, \"nam...   \n",
       "...         ...                                                ...   \n",
       "4798     220000  [{\"id\": 28, \"name\": \"Action\"}, {\"id\": 80, \"nam...   \n",
       "4799       9000  [{\"id\": 35, \"name\": \"Comedy\"}, {\"id\": 10749, \"...   \n",
       "4800          0  [{\"id\": 35, \"name\": \"Comedy\"}, {\"id\": 18, \"nam...   \n",
       "4801          0                                                 []   \n",
       "4802          0                [{\"id\": 99, \"name\": \"Documentary\"}]   \n",
       "\n",
       "                                               homepage      id  \\\n",
       "0                           http://www.avatarmovie.com/   19995   \n",
       "1          http://disney.go.com/disneypictures/pirates/     285   \n",
       "2           http://www.sonypictures.com/movies/spectre/  206647   \n",
       "3                    http://www.thedarkknightrises.com/   49026   \n",
       "4                  http://movies.disney.com/john-carter   49529   \n",
       "...                                                 ...     ...   \n",
       "4798                                                NaN    9367   \n",
       "4799                                                NaN   72766   \n",
       "4800  http://www.hallmarkchannel.com/signedsealeddel...  231617   \n",
       "4801                        http://shanghaicalling.com/  126186   \n",
       "4802                                                NaN   25975   \n",
       "\n",
       "                                               keywords original_language  \\\n",
       "0     [{\"id\": 1463, \"name\": \"culture clash\"}, {\"id\":...                en   \n",
       "1     [{\"id\": 270, \"name\": \"ocean\"}, {\"id\": 726, \"na...                en   \n",
       "2     [{\"id\": 470, \"name\": \"spy\"}, {\"id\": 818, \"name...                en   \n",
       "3     [{\"id\": 849, \"name\": \"dc comics\"}, {\"id\": 853,...                en   \n",
       "4     [{\"id\": 818, \"name\": \"based on novel\"}, {\"id\":...                en   \n",
       "...                                                 ...               ...   \n",
       "4798  [{\"id\": 5616, \"name\": \"united states\\u2013mexi...                es   \n",
       "4799                                                 []                en   \n",
       "4800  [{\"id\": 248, \"name\": \"date\"}, {\"id\": 699, \"nam...                en   \n",
       "4801                                                 []                en   \n",
       "4802  [{\"id\": 1523, \"name\": \"obsession\"}, {\"id\": 224...                en   \n",
       "\n",
       "                                original_title  \\\n",
       "0                                       Avatar   \n",
       "1     Pirates of the Caribbean: At World's End   \n",
       "2                                      Spectre   \n",
       "3                        The Dark Knight Rises   \n",
       "4                                  John Carter   \n",
       "...                                        ...   \n",
       "4798                               El Mariachi   \n",
       "4799                                 Newlyweds   \n",
       "4800                 Signed, Sealed, Delivered   \n",
       "4801                          Shanghai Calling   \n",
       "4802                         My Date with Drew   \n",
       "\n",
       "                                               overview  popularity  \\\n",
       "0     In the 22nd century, a paraplegic Marine is di...  150.437577   \n",
       "1     Captain Barbossa, long believed to be dead, ha...  139.082615   \n",
       "2     A cryptic message from Bond’s past sends him o...  107.376788   \n",
       "3     Following the death of District Attorney Harve...  112.312950   \n",
       "4     John Carter is a war-weary, former military ca...   43.926995   \n",
       "...                                                 ...         ...   \n",
       "4798  El Mariachi just wants to play his guitar and ...   14.269792   \n",
       "4799  A newlywed couple's honeymoon is upended by th...    0.642552   \n",
       "4800  \"Signed, Sealed, Delivered\" introduces a dedic...    1.444476   \n",
       "4801  When ambitious New York attorney Sam is sent t...    0.857008   \n",
       "4802  Ever since the second grade when he first saw ...    1.929883   \n",
       "\n",
       "                                   production_companies  \\\n",
       "0     [{\"name\": \"Ingenious Film Partners\", \"id\": 289...   \n",
       "1     [{\"name\": \"Walt Disney Pictures\", \"id\": 2}, {\"...   \n",
       "2     [{\"name\": \"Columbia Pictures\", \"id\": 5}, {\"nam...   \n",
       "3     [{\"name\": \"Legendary Pictures\", \"id\": 923}, {\"...   \n",
       "4           [{\"name\": \"Walt Disney Pictures\", \"id\": 2}]   \n",
       "...                                                 ...   \n",
       "4798           [{\"name\": \"Columbia Pictures\", \"id\": 5}]   \n",
       "4799                                                 []   \n",
       "4800  [{\"name\": \"Front Street Pictures\", \"id\": 3958}...   \n",
       "4801                                                 []   \n",
       "4802  [{\"name\": \"rusty bear entertainment\", \"id\": 87...   \n",
       "\n",
       "                                   production_countries release_date  \\\n",
       "0     [{\"iso_3166_1\": \"US\", \"name\": \"United States o...   2009-12-10   \n",
       "1     [{\"iso_3166_1\": \"US\", \"name\": \"United States o...   2007-05-19   \n",
       "2     [{\"iso_3166_1\": \"GB\", \"name\": \"United Kingdom\"...   2015-10-26   \n",
       "3     [{\"iso_3166_1\": \"US\", \"name\": \"United States o...   2012-07-16   \n",
       "4     [{\"iso_3166_1\": \"US\", \"name\": \"United States o...   2012-03-07   \n",
       "...                                                 ...          ...   \n",
       "4798  [{\"iso_3166_1\": \"MX\", \"name\": \"Mexico\"}, {\"iso...   1992-09-04   \n",
       "4799                                                 []   2011-12-26   \n",
       "4800  [{\"iso_3166_1\": \"US\", \"name\": \"United States o...   2013-10-13   \n",
       "4801  [{\"iso_3166_1\": \"US\", \"name\": \"United States o...   2012-05-03   \n",
       "4802  [{\"iso_3166_1\": \"US\", \"name\": \"United States o...   2005-08-05   \n",
       "\n",
       "         revenue  runtime                                   spoken_languages  \\\n",
       "0     2787965087    162.0  [{\"iso_639_1\": \"en\", \"name\": \"English\"}, {\"iso...   \n",
       "1      961000000    169.0           [{\"iso_639_1\": \"en\", \"name\": \"English\"}]   \n",
       "2      880674609    148.0  [{\"iso_639_1\": \"fr\", \"name\": \"Fran\\u00e7ais\"},...   \n",
       "3     1084939099    165.0           [{\"iso_639_1\": \"en\", \"name\": \"English\"}]   \n",
       "4      284139100    132.0           [{\"iso_639_1\": \"en\", \"name\": \"English\"}]   \n",
       "...          ...      ...                                                ...   \n",
       "4798     2040920     81.0      [{\"iso_639_1\": \"es\", \"name\": \"Espa\\u00f1ol\"}]   \n",
       "4799           0     85.0                                                 []   \n",
       "4800           0    120.0           [{\"iso_639_1\": \"en\", \"name\": \"English\"}]   \n",
       "4801           0     98.0           [{\"iso_639_1\": \"en\", \"name\": \"English\"}]   \n",
       "4802           0     90.0           [{\"iso_639_1\": \"en\", \"name\": \"English\"}]   \n",
       "\n",
       "        status                                            tagline  \\\n",
       "0     Released                        Enter the World of Pandora.   \n",
       "1     Released     At the end of the world, the adventure begins.   \n",
       "2     Released                              A Plan No One Escapes   \n",
       "3     Released                                    The Legend Ends   \n",
       "4     Released               Lost in our world, found in another.   \n",
       "...        ...                                                ...   \n",
       "4798  Released  He didn't come looking for trouble, but troubl...   \n",
       "4799  Released  A newlywed couple's honeymoon is upended by th...   \n",
       "4800  Released                                                NaN   \n",
       "4801  Released                           A New Yorker in Shanghai   \n",
       "4802  Released                                                NaN   \n",
       "\n",
       "                                         title  vote_average  vote_count  \n",
       "0                                       Avatar           7.2       11800  \n",
       "1     Pirates of the Caribbean: At World's End           6.9        4500  \n",
       "2                                      Spectre           6.3        4466  \n",
       "3                        The Dark Knight Rises           7.6        9106  \n",
       "4                                  John Carter           6.1        2124  \n",
       "...                                        ...           ...         ...  \n",
       "4798                               El Mariachi           6.6         238  \n",
       "4799                                 Newlyweds           5.9           5  \n",
       "4800                 Signed, Sealed, Delivered           7.0           6  \n",
       "4801                          Shanghai Calling           5.7           7  \n",
       "4802                         My Date with Drew           6.3          16  \n",
       "\n",
       "[4803 rows x 20 columns]"
      ]
     },
     "execution_count": 9,
     "metadata": {},
     "output_type": "execute_result"
    }
   ],
   "source": [
    "movies"
   ]
  },
  {
   "cell_type": "code",
   "execution_count": 10,
   "id": "8622ac5a",
   "metadata": {
    "execution": {
     "iopub.execute_input": "2024-05-23T07:23:57.771601Z",
     "iopub.status.busy": "2024-05-23T07:23:57.770619Z",
     "iopub.status.idle": "2024-05-23T07:23:57.779351Z",
     "shell.execute_reply": "2024-05-23T07:23:57.777870Z"
    },
    "papermill": {
     "duration": 0.028661,
     "end_time": "2024-05-23T07:23:57.782069",
     "exception": false,
     "start_time": "2024-05-23T07:23:57.753408",
     "status": "completed"
    },
    "tags": []
   },
   "outputs": [
    {
     "data": {
      "text/plain": [
       "array(['[{\"name\": \"Ingenious Film Partners\", \"id\": 289}, {\"name\": \"Twentieth Century Fox Film Corporation\", \"id\": 306}, {\"name\": \"Dune Entertainment\", \"id\": 444}, {\"name\": \"Lightstorm Entertainment\", \"id\": 574}]',\n",
       "       '[{\"name\": \"Walt Disney Pictures\", \"id\": 2}, {\"name\": \"Jerry Bruckheimer Films\", \"id\": 130}, {\"name\": \"Second Mate Productions\", \"id\": 19936}]'],\n",
       "      dtype=object)"
      ]
     },
     "execution_count": 10,
     "metadata": {},
     "output_type": "execute_result"
    }
   ],
   "source": [
    "movies.head(2)['production_companies'].values"
   ]
  },
  {
   "cell_type": "markdown",
   "id": "bc8ddb8b",
   "metadata": {
    "papermill": {
     "duration": 0.016174,
     "end_time": "2024-05-23T07:23:57.812543",
     "exception": false,
     "start_time": "2024-05-23T07:23:57.796369",
     "status": "completed"
    },
    "tags": []
   },
   "source": [
    "Merging both dataframes based on title"
   ]
  },
  {
   "cell_type": "code",
   "execution_count": 11,
   "id": "66ba02e6",
   "metadata": {
    "execution": {
     "iopub.execute_input": "2024-05-23T07:23:57.842365Z",
     "iopub.status.busy": "2024-05-23T07:23:57.841977Z",
     "iopub.status.idle": "2024-05-23T07:23:57.874161Z",
     "shell.execute_reply": "2024-05-23T07:23:57.873270Z"
    },
    "papermill": {
     "duration": 0.050516,
     "end_time": "2024-05-23T07:23:57.876988",
     "exception": false,
     "start_time": "2024-05-23T07:23:57.826472",
     "status": "completed"
    },
    "tags": []
   },
   "outputs": [
    {
     "data": {
      "text/plain": [
       "(4809, 23)"
      ]
     },
     "execution_count": 11,
     "metadata": {},
     "output_type": "execute_result"
    }
   ],
   "source": [
    "movies.merge(credits, on = 'title').shape\n",
    "#should be 23"
   ]
  },
  {
   "cell_type": "code",
   "execution_count": 12,
   "id": "fffa599c",
   "metadata": {
    "execution": {
     "iopub.execute_input": "2024-05-23T07:23:57.907131Z",
     "iopub.status.busy": "2024-05-23T07:23:57.906752Z",
     "iopub.status.idle": "2024-05-23T07:23:57.942438Z",
     "shell.execute_reply": "2024-05-23T07:23:57.941334Z"
    },
    "papermill": {
     "duration": 0.053786,
     "end_time": "2024-05-23T07:23:57.945074",
     "exception": false,
     "start_time": "2024-05-23T07:23:57.891288",
     "status": "completed"
    },
    "tags": []
   },
   "outputs": [
    {
     "data": {
      "text/html": [
       "<div>\n",
       "<style scoped>\n",
       "    .dataframe tbody tr th:only-of-type {\n",
       "        vertical-align: middle;\n",
       "    }\n",
       "\n",
       "    .dataframe tbody tr th {\n",
       "        vertical-align: top;\n",
       "    }\n",
       "\n",
       "    .dataframe thead th {\n",
       "        text-align: right;\n",
       "    }\n",
       "</style>\n",
       "<table border=\"1\" class=\"dataframe\">\n",
       "  <thead>\n",
       "    <tr style=\"text-align: right;\">\n",
       "      <th></th>\n",
       "      <th>budget</th>\n",
       "      <th>genres</th>\n",
       "      <th>homepage</th>\n",
       "      <th>id</th>\n",
       "      <th>keywords</th>\n",
       "      <th>original_language</th>\n",
       "      <th>original_title</th>\n",
       "      <th>overview</th>\n",
       "      <th>popularity</th>\n",
       "      <th>production_companies</th>\n",
       "      <th>...</th>\n",
       "      <th>runtime</th>\n",
       "      <th>spoken_languages</th>\n",
       "      <th>status</th>\n",
       "      <th>tagline</th>\n",
       "      <th>title</th>\n",
       "      <th>vote_average</th>\n",
       "      <th>vote_count</th>\n",
       "      <th>movie_id</th>\n",
       "      <th>cast</th>\n",
       "      <th>crew</th>\n",
       "    </tr>\n",
       "  </thead>\n",
       "  <tbody>\n",
       "    <tr>\n",
       "      <th>0</th>\n",
       "      <td>237000000</td>\n",
       "      <td>[{\"id\": 28, \"name\": \"Action\"}, {\"id\": 12, \"nam...</td>\n",
       "      <td>http://www.avatarmovie.com/</td>\n",
       "      <td>19995</td>\n",
       "      <td>[{\"id\": 1463, \"name\": \"culture clash\"}, {\"id\":...</td>\n",
       "      <td>en</td>\n",
       "      <td>Avatar</td>\n",
       "      <td>In the 22nd century, a paraplegic Marine is di...</td>\n",
       "      <td>150.437577</td>\n",
       "      <td>[{\"name\": \"Ingenious Film Partners\", \"id\": 289...</td>\n",
       "      <td>...</td>\n",
       "      <td>162.0</td>\n",
       "      <td>[{\"iso_639_1\": \"en\", \"name\": \"English\"}, {\"iso...</td>\n",
       "      <td>Released</td>\n",
       "      <td>Enter the World of Pandora.</td>\n",
       "      <td>Avatar</td>\n",
       "      <td>7.2</td>\n",
       "      <td>11800</td>\n",
       "      <td>19995</td>\n",
       "      <td>[{\"cast_id\": 242, \"character\": \"Jake Sully\", \"...</td>\n",
       "      <td>[{\"credit_id\": \"52fe48009251416c750aca23\", \"de...</td>\n",
       "    </tr>\n",
       "    <tr>\n",
       "      <th>1</th>\n",
       "      <td>300000000</td>\n",
       "      <td>[{\"id\": 12, \"name\": \"Adventure\"}, {\"id\": 14, \"...</td>\n",
       "      <td>http://disney.go.com/disneypictures/pirates/</td>\n",
       "      <td>285</td>\n",
       "      <td>[{\"id\": 270, \"name\": \"ocean\"}, {\"id\": 726, \"na...</td>\n",
       "      <td>en</td>\n",
       "      <td>Pirates of the Caribbean: At World's End</td>\n",
       "      <td>Captain Barbossa, long believed to be dead, ha...</td>\n",
       "      <td>139.082615</td>\n",
       "      <td>[{\"name\": \"Walt Disney Pictures\", \"id\": 2}, {\"...</td>\n",
       "      <td>...</td>\n",
       "      <td>169.0</td>\n",
       "      <td>[{\"iso_639_1\": \"en\", \"name\": \"English\"}]</td>\n",
       "      <td>Released</td>\n",
       "      <td>At the end of the world, the adventure begins.</td>\n",
       "      <td>Pirates of the Caribbean: At World's End</td>\n",
       "      <td>6.9</td>\n",
       "      <td>4500</td>\n",
       "      <td>285</td>\n",
       "      <td>[{\"cast_id\": 4, \"character\": \"Captain Jack Spa...</td>\n",
       "      <td>[{\"credit_id\": \"52fe4232c3a36847f800b579\", \"de...</td>\n",
       "    </tr>\n",
       "  </tbody>\n",
       "</table>\n",
       "<p>2 rows × 23 columns</p>\n",
       "</div>"
      ],
      "text/plain": [
       "      budget                                             genres  \\\n",
       "0  237000000  [{\"id\": 28, \"name\": \"Action\"}, {\"id\": 12, \"nam...   \n",
       "1  300000000  [{\"id\": 12, \"name\": \"Adventure\"}, {\"id\": 14, \"...   \n",
       "\n",
       "                                       homepage     id  \\\n",
       "0                   http://www.avatarmovie.com/  19995   \n",
       "1  http://disney.go.com/disneypictures/pirates/    285   \n",
       "\n",
       "                                            keywords original_language  \\\n",
       "0  [{\"id\": 1463, \"name\": \"culture clash\"}, {\"id\":...                en   \n",
       "1  [{\"id\": 270, \"name\": \"ocean\"}, {\"id\": 726, \"na...                en   \n",
       "\n",
       "                             original_title  \\\n",
       "0                                    Avatar   \n",
       "1  Pirates of the Caribbean: At World's End   \n",
       "\n",
       "                                            overview  popularity  \\\n",
       "0  In the 22nd century, a paraplegic Marine is di...  150.437577   \n",
       "1  Captain Barbossa, long believed to be dead, ha...  139.082615   \n",
       "\n",
       "                                production_companies  ... runtime  \\\n",
       "0  [{\"name\": \"Ingenious Film Partners\", \"id\": 289...  ...   162.0   \n",
       "1  [{\"name\": \"Walt Disney Pictures\", \"id\": 2}, {\"...  ...   169.0   \n",
       "\n",
       "                                    spoken_languages    status  \\\n",
       "0  [{\"iso_639_1\": \"en\", \"name\": \"English\"}, {\"iso...  Released   \n",
       "1           [{\"iso_639_1\": \"en\", \"name\": \"English\"}]  Released   \n",
       "\n",
       "                                          tagline  \\\n",
       "0                     Enter the World of Pandora.   \n",
       "1  At the end of the world, the adventure begins.   \n",
       "\n",
       "                                      title vote_average vote_count movie_id  \\\n",
       "0                                    Avatar          7.2      11800    19995   \n",
       "1  Pirates of the Caribbean: At World's End          6.9       4500      285   \n",
       "\n",
       "                                                cast  \\\n",
       "0  [{\"cast_id\": 242, \"character\": \"Jake Sully\", \"...   \n",
       "1  [{\"cast_id\": 4, \"character\": \"Captain Jack Spa...   \n",
       "\n",
       "                                                crew  \n",
       "0  [{\"credit_id\": \"52fe48009251416c750aca23\", \"de...  \n",
       "1  [{\"credit_id\": \"52fe4232c3a36847f800b579\", \"de...  \n",
       "\n",
       "[2 rows x 23 columns]"
      ]
     },
     "execution_count": 12,
     "metadata": {},
     "output_type": "execute_result"
    }
   ],
   "source": [
    "df = movies.merge(credits , on = 'title')\n",
    "df.head(2)"
   ]
  },
  {
   "cell_type": "markdown",
   "id": "4ca0e476",
   "metadata": {
    "papermill": {
     "duration": 0.014143,
     "end_time": "2024-05-23T07:23:57.973739",
     "exception": false,
     "start_time": "2024-05-23T07:23:57.959596",
     "status": "completed"
    },
    "tags": []
   },
   "source": [
    "Dropping unnecessary columns\n",
    "Select columns which will help making tags"
   ]
  },
  {
   "cell_type": "code",
   "execution_count": 13,
   "id": "0dd9e8f9",
   "metadata": {
    "execution": {
     "iopub.execute_input": "2024-05-23T07:23:58.005103Z",
     "iopub.status.busy": "2024-05-23T07:23:58.004312Z",
     "iopub.status.idle": "2024-05-23T07:23:58.011928Z",
     "shell.execute_reply": "2024-05-23T07:23:58.010878Z"
    },
    "papermill": {
     "duration": 0.026477,
     "end_time": "2024-05-23T07:23:58.014385",
     "exception": false,
     "start_time": "2024-05-23T07:23:57.987908",
     "status": "completed"
    },
    "tags": []
   },
   "outputs": [
    {
     "data": {
      "text/plain": [
       "Index(['budget', 'genres', 'homepage', 'id', 'keywords', 'original_language',\n",
       "       'original_title', 'overview', 'popularity', 'production_companies',\n",
       "       'production_countries', 'release_date', 'revenue', 'runtime',\n",
       "       'spoken_languages', 'status', 'tagline', 'title', 'vote_average',\n",
       "       'vote_count', 'movie_id', 'cast', 'crew'],\n",
       "      dtype='object')"
      ]
     },
     "execution_count": 13,
     "metadata": {},
     "output_type": "execute_result"
    }
   ],
   "source": [
    "df.columns"
   ]
  },
  {
   "cell_type": "code",
   "execution_count": 14,
   "id": "eb5553d9",
   "metadata": {
    "execution": {
     "iopub.execute_input": "2024-05-23T07:23:58.046233Z",
     "iopub.status.busy": "2024-05-23T07:23:58.045307Z",
     "iopub.status.idle": "2024-05-23T07:23:58.053338Z",
     "shell.execute_reply": "2024-05-23T07:23:58.052550Z"
    },
    "papermill": {
     "duration": 0.026551,
     "end_time": "2024-05-23T07:23:58.055575",
     "exception": false,
     "start_time": "2024-05-23T07:23:58.029024",
     "status": "completed"
    },
    "tags": []
   },
   "outputs": [
    {
     "data": {
      "text/plain": [
       "(4809, 7)"
      ]
     },
     "execution_count": 14,
     "metadata": {},
     "output_type": "execute_result"
    }
   ],
   "source": [
    "df = df[['movie_id','title','overview','genres','keywords','cast','crew']]\n",
    "df.shape"
   ]
  },
  {
   "cell_type": "code",
   "execution_count": 15,
   "id": "9b9068b9",
   "metadata": {
    "execution": {
     "iopub.execute_input": "2024-05-23T07:23:58.087477Z",
     "iopub.status.busy": "2024-05-23T07:23:58.086846Z",
     "iopub.status.idle": "2024-05-23T07:23:58.102399Z",
     "shell.execute_reply": "2024-05-23T07:23:58.101239Z"
    },
    "papermill": {
     "duration": 0.034357,
     "end_time": "2024-05-23T07:23:58.104988",
     "exception": false,
     "start_time": "2024-05-23T07:23:58.070631",
     "status": "completed"
    },
    "tags": []
   },
   "outputs": [
    {
     "data": {
      "text/plain": [
       "movie_id    0\n",
       "title       0\n",
       "overview    3\n",
       "genres      0\n",
       "keywords    0\n",
       "cast        0\n",
       "crew        0\n",
       "dtype: int64"
      ]
     },
     "execution_count": 15,
     "metadata": {},
     "output_type": "execute_result"
    }
   ],
   "source": [
    "df.isna().sum()"
   ]
  },
  {
   "cell_type": "code",
   "execution_count": 16,
   "id": "969effbf",
   "metadata": {
    "execution": {
     "iopub.execute_input": "2024-05-23T07:23:58.136407Z",
     "iopub.status.busy": "2024-05-23T07:23:58.135983Z",
     "iopub.status.idle": "2024-05-23T07:23:58.152749Z",
     "shell.execute_reply": "2024-05-23T07:23:58.151814Z"
    },
    "papermill": {
     "duration": 0.035333,
     "end_time": "2024-05-23T07:23:58.155184",
     "exception": false,
     "start_time": "2024-05-23T07:23:58.119851",
     "status": "completed"
    },
    "tags": []
   },
   "outputs": [
    {
     "data": {
      "text/plain": [
       "(4806, 7)"
      ]
     },
     "execution_count": 16,
     "metadata": {},
     "output_type": "execute_result"
    }
   ],
   "source": [
    "df.dropna(inplace = True)\n",
    "df.shape"
   ]
  },
  {
   "cell_type": "markdown",
   "id": "0ad11878",
   "metadata": {
    "papermill": {
     "duration": 0.01523,
     "end_time": "2024-05-23T07:23:58.186196",
     "exception": false,
     "start_time": "2024-05-23T07:23:58.170966",
     "status": "completed"
    },
    "tags": []
   },
   "source": [
    "Lets clean columns one by one"
   ]
  },
  {
   "cell_type": "code",
   "execution_count": 17,
   "id": "9c90dc80",
   "metadata": {
    "execution": {
     "iopub.execute_input": "2024-05-23T07:23:58.218544Z",
     "iopub.status.busy": "2024-05-23T07:23:58.217598Z",
     "iopub.status.idle": "2024-05-23T07:23:58.226085Z",
     "shell.execute_reply": "2024-05-23T07:23:58.224818Z"
    },
    "papermill": {
     "duration": 0.02733,
     "end_time": "2024-05-23T07:23:58.228640",
     "exception": false,
     "start_time": "2024-05-23T07:23:58.201310",
     "status": "completed"
    },
    "tags": []
   },
   "outputs": [
    {
     "data": {
      "text/plain": [
       "'[{\"id\": 28, \"name\": \"Action\"}, {\"id\": 80, \"name\": \"Crime\"}, {\"id\": 18, \"name\": \"Drama\"}, {\"id\": 53, \"name\": \"Thriller\"}]'"
      ]
     },
     "execution_count": 17,
     "metadata": {},
     "output_type": "execute_result"
    }
   ],
   "source": [
    "movies.iloc[3].genres"
   ]
  },
  {
   "cell_type": "markdown",
   "id": "4b5925ef",
   "metadata": {
    "papermill": {
     "duration": 0.015293,
     "end_time": "2024-05-23T07:23:58.259000",
     "exception": false,
     "start_time": "2024-05-23T07:23:58.243707",
     "status": "completed"
    },
    "tags": []
   },
   "source": [
    "[{\"id\": 28, \"name\": \"Action\"}, {\"id\": 80, \"name\": \"Crime\"}, {\"id\": 18, \"name\": \"Drama\"}, {\"id\": 53, \"name\": \"Thriller\"}]\n",
    "\n",
    "=\n",
    "\n",
    "['Action','Crime','Drama','Thriller']\n"
   ]
  },
  {
   "cell_type": "code",
   "execution_count": 18,
   "id": "e98c0b5d",
   "metadata": {
    "execution": {
     "iopub.execute_input": "2024-05-23T07:23:58.294539Z",
     "iopub.status.busy": "2024-05-23T07:23:58.293402Z",
     "iopub.status.idle": "2024-05-23T07:23:58.299071Z",
     "shell.execute_reply": "2024-05-23T07:23:58.297380Z"
    },
    "papermill": {
     "duration": 0.028178,
     "end_time": "2024-05-23T07:23:58.302648",
     "exception": false,
     "start_time": "2024-05-23T07:23:58.274470",
     "status": "completed"
    },
    "tags": []
   },
   "outputs": [],
   "source": [
    "import ast"
   ]
  },
  {
   "cell_type": "code",
   "execution_count": 19,
   "id": "57b09c68",
   "metadata": {
    "execution": {
     "iopub.execute_input": "2024-05-23T07:23:58.347115Z",
     "iopub.status.busy": "2024-05-23T07:23:58.346038Z",
     "iopub.status.idle": "2024-05-23T07:23:58.354064Z",
     "shell.execute_reply": "2024-05-23T07:23:58.351994Z"
    },
    "papermill": {
     "duration": 0.036489,
     "end_time": "2024-05-23T07:23:58.358720",
     "exception": false,
     "start_time": "2024-05-23T07:23:58.322231",
     "status": "completed"
    },
    "tags": []
   },
   "outputs": [],
   "source": [
    "def convert(obj):\n",
    "    L = []\n",
    "    for i in ast.literal_eval(obj):\n",
    "        L.append(i['name'])\n",
    "    return L"
   ]
  },
  {
   "cell_type": "code",
   "execution_count": 20,
   "id": "2ac04813",
   "metadata": {
    "execution": {
     "iopub.execute_input": "2024-05-23T07:23:58.394309Z",
     "iopub.status.busy": "2024-05-23T07:23:58.393922Z",
     "iopub.status.idle": "2024-05-23T07:23:59.190255Z",
     "shell.execute_reply": "2024-05-23T07:23:59.189020Z"
    },
    "papermill": {
     "duration": 0.817186,
     "end_time": "2024-05-23T07:23:59.193835",
     "exception": false,
     "start_time": "2024-05-23T07:23:58.376649",
     "status": "completed"
    },
    "tags": []
   },
   "outputs": [],
   "source": [
    "df['genres'] = df['genres'].apply(convert)\n",
    "df['keywords'] = df['keywords'].apply(convert)"
   ]
  },
  {
   "cell_type": "markdown",
   "id": "092f50d8",
   "metadata": {
    "papermill": {
     "duration": 0.014648,
     "end_time": "2024-05-23T07:23:59.224807",
     "exception": false,
     "start_time": "2024-05-23T07:23:59.210159",
     "status": "completed"
    },
    "tags": []
   },
   "source": [
    "Cast column"
   ]
  },
  {
   "cell_type": "code",
   "execution_count": 21,
   "id": "4d5dd66e",
   "metadata": {
    "collapsed": true,
    "execution": {
     "iopub.execute_input": "2024-05-23T07:23:59.259845Z",
     "iopub.status.busy": "2024-05-23T07:23:59.259168Z",
     "iopub.status.idle": "2024-05-23T07:23:59.267715Z",
     "shell.execute_reply": "2024-05-23T07:23:59.266768Z"
    },
    "jupyter": {
     "outputs_hidden": true
    },
    "papermill": {
     "duration": 0.028195,
     "end_time": "2024-05-23T07:23:59.270063",
     "exception": false,
     "start_time": "2024-05-23T07:23:59.241868",
     "status": "completed"
    },
    "tags": []
   },
   "outputs": [
    {
     "data": {
      "text/plain": [
       "'[{\"cast_id\": 1, \"character\": \"James Bond\", \"credit_id\": \"52fe4d22c3a368484e1d8d6b\", \"gender\": 2, \"id\": 8784, \"name\": \"Daniel Craig\", \"order\": 0}, {\"cast_id\": 14, \"character\": \"Blofeld\", \"credit_id\": \"54805866c3a36829ab002592\", \"gender\": 2, \"id\": 27319, \"name\": \"Christoph Waltz\", \"order\": 1}, {\"cast_id\": 13, \"character\": \"Madeleine\", \"credit_id\": \"546f934fc3a3682f9a002ca5\", \"gender\": 1, \"id\": 121529, \"name\": \"L\\\\u00e9a Seydoux\", \"order\": 2}, {\"cast_id\": 10, \"character\": \"M\", \"credit_id\": \"53e86503c3a368399c0031f0\", \"gender\": 2, \"id\": 5469, \"name\": \"Ralph Fiennes\", \"order\": 3}, {\"cast_id\": 17, \"character\": \"Lucia\", \"credit_id\": \"54805920c3a36829ae0022c5\", \"gender\": 1, \"id\": 28782, \"name\": \"Monica Bellucci\", \"order\": 4}, {\"cast_id\": 8, \"character\": \"Q\", \"credit_id\": \"52fe4d22c3a368484e1d8d87\", \"gender\": 2, \"id\": 17064, \"name\": \"Ben Whishaw\", \"order\": 5}, {\"cast_id\": 11, \"character\": \"Moneypenny\", \"credit_id\": \"53e8650cc3a368399c0031f4\", \"gender\": 1, \"id\": 2038, \"name\": \"Naomie Harris\", \"order\": 6}, {\"cast_id\": 16, \"character\": \"Hinx\", \"credit_id\": \"5480590f9251416e7b0022f4\", \"gender\": 2, \"id\": 543530, \"name\": \"Dave Bautista\", \"order\": 7}, {\"cast_id\": 15, \"character\": \"C\", \"credit_id\": \"548058ffc3a36829a7002511\", \"gender\": 2, \"id\": 125660, \"name\": \"Andrew Scott\", \"order\": 8}, {\"cast_id\": 19, \"character\": \"Tanner\", \"credit_id\": \"5480593cc3a36829ae0022ca\", \"gender\": 2, \"id\": 139549, \"name\": \"Rory Kinnear\", \"order\": 9}, {\"cast_id\": 23, \"character\": \"Mr. White\", \"credit_id\": \"5517b3849251416f0d0032c8\", \"gender\": 2, \"id\": 2244, \"name\": \"Jesper Christensen\", \"order\": 10}, {\"cast_id\": 24, \"character\": \"Marco Sciarra\", \"credit_id\": \"5517b398c3a36862fc002df6\", \"gender\": 0, \"id\": 1381616, \"name\": \"Alessandro Cremona\", \"order\": 11}, {\"cast_id\": 25, \"character\": \"Estrella\", \"credit_id\": \"5517b3c49251412c1e00180b\", \"gender\": 1, \"id\": 929937, \"name\": \"Stephanie Sigman\", \"order\": 12}, {\"cast_id\": 49, \"character\": \"Mexican Man in Lift\", \"credit_id\": \"5664561cc3a3682bd0007fc8\", \"gender\": 0, \"id\": 87265, \"name\": \"Tenoch Huerta\", \"order\": 13}, {\"cast_id\": 50, \"character\": \"Mexican Woman in Lift\", \"credit_id\": \"5664561dc3a3682be9008dc6\", \"gender\": 1, \"id\": 983710, \"name\": \"Adriana Paz\", \"order\": 14}, {\"cast_id\": 180, \"character\": \"Gallo\", \"credit_id\": \"56fddbacc3a36821b6000aca\", \"gender\": 2, \"id\": 1385592, \"name\": \"Domenico Fortunato\", \"order\": 15}, {\"cast_id\": 51, \"character\": \"Gallo\\'s Accomplice\", \"credit_id\": \"5664561dc3a3682bd8008fbe\", \"gender\": 0, \"id\": 1545546, \"name\": \"Marco Zingaro\", \"order\": 16}, {\"cast_id\": 52, \"character\": \"Gallo\\'s Accomplice\", \"credit_id\": \"5664561d9251412ad300870b\", \"gender\": 2, \"id\": 1545547, \"name\": \"Stefano Elfi DiClaudia\", \"order\": 17}, {\"cast_id\": 181, \"character\": \"Q\\'s Assistant\", \"credit_id\": \"56fddc319251412a4d0009f9\", \"gender\": 0, \"id\": 122556, \"name\": \"Ian Bonar\", \"order\": 18}, {\"cast_id\": 182, \"character\": \"Moneypenny\\'s Boyfriend\", \"credit_id\": \"56fddc66c3a36821b6000b04\", \"gender\": 2, \"id\": 1599239, \"name\": \"Tam Williams\", \"order\": 19}, {\"cast_id\": 183, \"character\": \"Blofeld\\'s London Helicopter Pilot\", \"credit_id\": \"56fddc989251412a56000a85\", \"gender\": 2, \"id\": 1599241, \"name\": \"Richard Banham\", \"order\": 20}, {\"cast_id\": 184, \"character\": \"SC019 Police Commander\", \"credit_id\": \"56fddccf9251412a4b000b5d\", \"gender\": 2, \"id\": 230681, \"name\": \"Pip Carter\", \"order\": 21}, {\"cast_id\": 185, \"character\": \"SC019 Police Officer\", \"credit_id\": \"56fddce6c3a36821ae000b45\", \"gender\": 2, \"id\": 30446, \"name\": \"Simon Lenagan\", \"order\": 22}, {\"cast_id\": 27, \"character\": \"Priest\", \"credit_id\": \"5517b4f69251416efe003370\", \"gender\": 2, \"id\": 48377, \"name\": \"Alessandro Bressanello\", \"order\": 23}, {\"cast_id\": 38, \"character\": \"Moreau\", \"credit_id\": \"56486811c3a3682605006adc\", \"gender\": 0, \"id\": 578512, \"name\": \"Marc Zinga\", \"order\": 24}, {\"cast_id\": 39, \"character\": \"Vogel\", \"credit_id\": \"56486820c3a368261a006de7\", \"gender\": 0, \"id\": 1093974, \"name\": \"Brigitte Millar\", \"order\": 25}, {\"cast_id\": 41, \"character\": \"Abrika\", \"credit_id\": \"564868a09251413ad7006da5\", \"gender\": 2, \"id\": 89624, \"name\": \"Adel Bencherif\", \"order\": 26}, {\"cast_id\": 186, \"character\": \"Blofeld\\'s Right Hand Man\", \"credit_id\": \"56fddd5a9251412a42000b52\", \"gender\": 2, \"id\": 1129783, \"name\": \"Gediminas Adomaitis\", \"order\": 27}, {\"cast_id\": 42, \"character\": \"Lorenzo\", \"credit_id\": \"564868c5c3a368260c006ee4\", \"gender\": 0, \"id\": 226388, \"name\": \"Peppe Lanzetta\", \"order\": 28}, {\"cast_id\": 187, \"character\": \"Francesco\", \"credit_id\": \"56fddd9cc3a36821a4000b5b\", \"gender\": 2, \"id\": 1299312, \"name\": \"Francesco Arca\", \"order\": 29}, {\"cast_id\": 188, \"character\": \"Marco\", \"credit_id\": \"56fdddb79251412a50000aad\", \"gender\": 2, \"id\": 124628, \"name\": \"Matteo Taranto\", \"order\": 30}, {\"cast_id\": 189, \"character\": \"Palazzo Security\", \"credit_id\": \"56fdddd69251412a56000ac6\", \"gender\": 2, \"id\": 1562103, \"name\": \"Emilio Aniba\", \"order\": 31}, {\"cast_id\": 190, \"character\": \"Guerra\", \"credit_id\": \"56fdddf19251412a50000ac1\", \"gender\": 2, \"id\": 1474616, \"name\": \"Benito Sagredo\", \"order\": 32}, {\"cast_id\": 191, \"character\": \"Businessman\", \"credit_id\": \"56fdde0d9251416cc200004c\", \"gender\": 2, \"id\": 1247684, \"name\": \"Dai Tabuchi\", \"order\": 33}, {\"cast_id\": 192, \"character\": \"Businessman\", \"credit_id\": \"56fdde1bc3a36821b1000ba8\", \"gender\": 2, \"id\": 1599245, \"name\": \"George Lasha\", \"order\": 34}, {\"cast_id\": 193, \"character\": \"Businessman\", \"credit_id\": \"56fdde259251412a42000b93\", \"gender\": 0, \"id\": 1599247, \"name\": \"Sargon Yelda\", \"order\": 35}, {\"cast_id\": 194, \"character\": \"Businessman\", \"credit_id\": \"56fdde9fc3a36821b6000ba0\", \"gender\": 2, \"id\": 1599251, \"name\": \"Andy Cheung\", \"order\": 36}, {\"cast_id\": 195, \"character\": \"Marshall\", \"credit_id\": \"56fddeb29251412a50000af4\", \"gender\": 2, \"id\": 1599252, \"name\": \"Erick Hayden\", \"order\": 37}, {\"cast_id\": 196, \"character\": \"Valerian\", \"credit_id\": \"56fddec8c3a36821ab000c19\", \"gender\": 2, \"id\": 1599253, \"name\": \"Oleg Mirochnikov\", \"order\": 38}, {\"cast_id\": 197, \"character\": \"Fiat Driver\", \"credit_id\": \"56fddef89251412a47000a79\", \"gender\": 2, \"id\": 123548, \"name\": \"Antonio Salines\", \"order\": 39}, {\"cast_id\": 198, \"character\": \"Street Sweeper\", \"credit_id\": \"56fddf109251416cc2000086\", \"gender\": 2, \"id\": 1599254, \"name\": \"Miloud Mourad Benamara\", \"order\": 40}, {\"cast_id\": 199, \"character\": \"Chairman\", \"credit_id\": \"56fddf4a9251412a42000bcf\", \"gender\": 2, \"id\": 1599255, \"name\": \"Gido Schimanski\", \"order\": 41}, {\"cast_id\": 200, \"character\": \"Head of Nation\", \"credit_id\": \"56fddf69c3a36821a7000b12\", \"gender\": 0, \"id\": 1404403, \"name\": \"Nigel Barber\", \"order\": 42}, {\"cast_id\": 201, \"character\": \"Head of Nation\", \"credit_id\": \"56fddf7fc3a36821b1000c0d\", \"gender\": 2, \"id\": 74415, \"name\": \"Patrice Naiambana\", \"order\": 43}, {\"cast_id\": 202, \"character\": \"Head of Nation\", \"credit_id\": \"56fddf89c3a368219d000adb\", \"gender\": 2, \"id\": 1599256, \"name\": \"Stephane Cornicard\", \"order\": 44}, {\"cast_id\": 203, \"character\": \"Head of Nation\", \"credit_id\": \"56fddf929251412a56000b29\", \"gender\": 2, \"id\": 1599257, \"name\": \"Gary Fannin\", \"order\": 45}, {\"cast_id\": 204, \"character\": \"Head of Nation\", \"credit_id\": \"56fddf9cc3a36821ae000be1\", \"gender\": 2, \"id\": 1599258, \"name\": \"Sadao Ueda\", \"order\": 46}, {\"cast_id\": 205, \"character\": \"Head of Nation\", \"credit_id\": \"56fddfb99251412a50000b30\", \"gender\": 0, \"id\": 1599259, \"name\": \"Phillip Law\", \"order\": 47}, {\"cast_id\": 206, \"character\": \"Head of Nation\", \"credit_id\": \"56fddfef9251412a54000ba8\", \"gender\": 2, \"id\": 1599260, \"name\": \"Wai Wong\", \"order\": 48}, {\"cast_id\": 207, \"character\": \"Head of Nation\", \"credit_id\": \"56fde0179251412a47000ac2\", \"gender\": 2, \"id\": 1477143, \"name\": \"Joseph Balderrama\", \"order\": 49}, {\"cast_id\": 208, \"character\": \"Aide\", \"credit_id\": \"56fde0809251416cc20000cb\", \"gender\": 2, \"id\": 1599261, \"name\": \"Eiji Mihara\", \"order\": 50}, {\"cast_id\": 209, \"character\": \"Aide\", \"credit_id\": \"56fde0a49251412a47000ae0\", \"gender\": 2, \"id\": 1168129, \"name\": \"Junichi Kajioka\", \"order\": 51}, {\"cast_id\": 40, \"character\": \"Clinic Barman\", \"credit_id\": \"56486850c3a368260c006ecf\", \"gender\": 0, \"id\": 48393, \"name\": \"Victor Schef\\\\u00e9\", \"order\": 52}, {\"cast_id\": 210, \"character\": \"Clinic Security Guard\", \"credit_id\": \"56fde0f19251412a42000c28\", \"gender\": 2, \"id\": 1437333, \"name\": \"Harald Windisch\", \"order\": 53}, {\"cast_id\": 211, \"character\": \"Clinic Security Guard\", \"credit_id\": \"56fde118c3a36821a4000c3c\", \"gender\": 2, \"id\": 1599262, \"name\": \"Tristan Matthiae\", \"order\": 54}, {\"cast_id\": 177, \"character\": \"Cable Car Heavy\", \"credit_id\": \"5696db21c3a3683af90002d6\", \"gender\": 2, \"id\": 14637, \"name\": \"Detlef Bothe\", \"order\": 55}, {\"cast_id\": 212, \"character\": \"Cable Car Heavy\", \"credit_id\": \"56fde128c3a368219d000b4f\", \"gender\": 2, \"id\": 1599263, \"name\": \"Bodo Friesecke\", \"order\": 56}, {\"cast_id\": 213, \"character\": \"Syringe Heavy\", \"credit_id\": \"56fde1769251412a54000c0b\", \"gender\": 2, \"id\": 1599264, \"name\": \"Wilhem Iben\", \"order\": 57}, {\"cast_id\": 214, \"character\": \"Snowboarder\", \"credit_id\": \"56fde1849251412a42000c4d\", \"gender\": 1, \"id\": 1599265, \"name\": \"Noemi Krausz\", \"order\": 58}, {\"cast_id\": 215, \"character\": \"Snowboarder\", \"credit_id\": \"56fde18dc3a36821b6000c4f\", \"gender\": 2, \"id\": 1599266, \"name\": \"Noah Saavedra\", \"order\": 59}, {\"cast_id\": 216, \"character\": \"Snowboarder\", \"credit_id\": \"56fde1989251412a54000c16\", \"gender\": 0, \"id\": 1599267, \"name\": \"Francis Attakpah\", \"order\": 60}, {\"cast_id\": 217, \"character\": \"Snowboarder\", \"credit_id\": \"56fde1a39251412a42000c58\", \"gender\": 2, \"id\": 1599268, \"name\": \"Michael Glantschnig\", \"order\": 61}, {\"cast_id\": 218, \"character\": \"Snowboarder\", \"credit_id\": \"56fde1aec3a36821ab000cbf\", \"gender\": 2, \"id\": 1599269, \"name\": \"Marlon Boess\", \"order\": 62}, {\"cast_id\": 219, \"character\": \"Snowboarder\", \"credit_id\": \"56fde1b8c3a36821ae000c62\", \"gender\": 1, \"id\": 1599270, \"name\": \"Marie Wohlmuth\", \"order\": 63}, {\"cast_id\": 220, \"character\": \"Snowboarder\", \"credit_id\": \"56fde1c1c3a36821b1000c9c\", \"gender\": 1, \"id\": 1599271, \"name\": \"Lili Epply\", \"order\": 64}, {\"cast_id\": 221, \"character\": \"Snowboarder\", \"credit_id\": \"56fde1cbc3a36821a7000baf\", \"gender\": 2, \"id\": 1599272, \"name\": \"Konstantin Gerlach\", \"order\": 65}, {\"cast_id\": 222, \"character\": \"L\\'Americain Manater\", \"credit_id\": \"56fde24c9251412a45000bfb\", \"gender\": 1, \"id\": 1102369, \"name\": \"Lara Parmiani\", \"order\": 66}, {\"cast_id\": 223, \"character\": \"Train Guard\", \"credit_id\": \"56fde2679251412a54000c42\", \"gender\": 2, \"id\": 1372694, \"name\": \"Umit Ulgen\", \"order\": 67}, {\"cast_id\": 224, \"character\": \"Train Waiter\", \"credit_id\": \"56fde2869251412a50000bf1\", \"gender\": 2, \"id\": 1363060, \"name\": \"Amra Mallassi\", \"order\": 68}, {\"cast_id\": 225, \"character\": \"Train Barman\", \"credit_id\": \"56fde2969251412a45000c15\", \"gender\": 2, \"id\": 1599275, \"name\": \"Ziad Abaza\", \"order\": 69}, {\"cast_id\": 226, \"character\": \"Blofeld\\'s Chauffeur\", \"credit_id\": \"56fde2a79251412a54000c55\", \"gender\": 2, \"id\": 1599276, \"name\": \"Walid Mumuni\", \"order\": 70}, {\"cast_id\": 227, \"character\": \"Blofeld\\'s Guard\", \"credit_id\": \"56fde2eb9251416cc200015b\", \"gender\": 0, \"id\": 1599277, \"name\": \"Derek Horsham\", \"order\": 71}, {\"cast_id\": 228, \"character\": \"Blofeld\\'s Guard\", \"credit_id\": \"56fde3059251412a47000b6a\", \"gender\": 2, \"id\": 229320, \"name\": \"Nari Blair-Mangat\", \"order\": 72}, {\"cast_id\": 229, \"character\": \"Blofeld\\'s Butler\", \"credit_id\": \"56fde321c3a36821ab000d32\", \"gender\": 0, \"id\": 1599278, \"name\": \"Michael White\", \"order\": 73}, {\"cast_id\": 230, \"character\": \"Blofeld\\'s Waiter\", \"credit_id\": \"56fde34c9251412a56000c21\", \"gender\": 0, \"id\": 1599279, \"name\": \"Adam McGrady\", \"order\": 74}, {\"cast_id\": 231, \"character\": \"Blofeld\\'s Analyst\", \"credit_id\": \"56fde36d9251412a50000c2b\", \"gender\": 2, \"id\": 1436816, \"name\": \"Nader Dernaika\", \"order\": 75}, {\"cast_id\": 232, \"character\": \"Blofeld\\'s Chief Analyst\", \"credit_id\": \"56fde37f9251412a4b000cf7\", \"gender\": 2, \"id\": 1599280, \"name\": \"Pezhmaan Alinia\", \"order\": 76}, {\"cast_id\": 31, \"character\": \"M (uncredited)\", \"credit_id\": \"562f218fc3a3681b5200c9e5\", \"gender\": 1, \"id\": 5309, \"name\": \"Judi Dench\", \"order\": 77}, {\"cast_id\": 26, \"character\": \"Clinic Patron (uncredited)\", \"credit_id\": \"5517b4bbc3a3686302002f36\", \"gender\": 1, \"id\": 1186597, \"name\": \"Neve Gachev\", \"order\": 78}, {\"cast_id\": 245, \"character\": \"Businessman (uncredited)\", \"credit_id\": \"57e11a3e92514104570052ba\", \"gender\": 2, \"id\": 1654739, \"name\": \"Karl Farrer\", \"order\": 79}, {\"cast_id\": 246, \"character\": \"Lair Staff (uncredited)\", \"credit_id\": \"57e124d992514104530055ec\", \"gender\": 1, \"id\": 1682535, \"name\": \"Kim Adis\", \"order\": 80}, {\"cast_id\": 247, \"character\": \"Mexican Sprite (uncredited)\", \"credit_id\": \"57e125ccc3a36853f2005365\", \"gender\": 1, \"id\": 1682536, \"name\": \"Maurisa Selene Coleman\", \"order\": 81}, {\"cast_id\": 249, \"character\": \"Pilot David\", \"credit_id\": \"585ab69fc3a3682fb8091219\", \"gender\": 2, \"id\": 1725801, \"name\": \"Matija Mondi Matovi\\\\u0107\", \"order\": 82}]'"
      ]
     },
     "execution_count": 21,
     "metadata": {},
     "output_type": "execute_result"
    }
   ],
   "source": [
    "df['cast'][2]\n",
    "# we need names of top 5 cast"
   ]
  },
  {
   "cell_type": "code",
   "execution_count": 22,
   "id": "23bcb4a8",
   "metadata": {
    "execution": {
     "iopub.execute_input": "2024-05-23T07:23:59.304629Z",
     "iopub.status.busy": "2024-05-23T07:23:59.303733Z",
     "iopub.status.idle": "2024-05-23T07:23:59.310518Z",
     "shell.execute_reply": "2024-05-23T07:23:59.309152Z"
    },
    "papermill": {
     "duration": 0.027242,
     "end_time": "2024-05-23T07:23:59.313430",
     "exception": false,
     "start_time": "2024-05-23T07:23:59.286188",
     "status": "completed"
    },
    "tags": []
   },
   "outputs": [],
   "source": [
    "def convert5(obj):\n",
    "    L =[]\n",
    "    counter = 0\n",
    "    for i in ast.literal_eval(obj):\n",
    "        if counter != 5:\n",
    "            L.append(i['name'])\n",
    "            counter+=1\n",
    "        else:\n",
    "            break\n",
    "    return L"
   ]
  },
  {
   "cell_type": "code",
   "execution_count": 23,
   "id": "c5c2422d",
   "metadata": {
    "execution": {
     "iopub.execute_input": "2024-05-23T07:23:59.352133Z",
     "iopub.status.busy": "2024-05-23T07:23:59.351275Z",
     "iopub.status.idle": "2024-05-23T07:24:03.638676Z",
     "shell.execute_reply": "2024-05-23T07:24:03.637391Z"
    },
    "papermill": {
     "duration": 4.312405,
     "end_time": "2024-05-23T07:24:03.641512",
     "exception": false,
     "start_time": "2024-05-23T07:23:59.329107",
     "status": "completed"
    },
    "tags": []
   },
   "outputs": [],
   "source": [
    "df['cast'] = df['cast'].apply(convert5)"
   ]
  },
  {
   "cell_type": "markdown",
   "id": "67d362e6",
   "metadata": {
    "papermill": {
     "duration": 0.01627,
     "end_time": "2024-05-23T07:24:03.673277",
     "exception": false,
     "start_time": "2024-05-23T07:24:03.657007",
     "status": "completed"
    },
    "tags": []
   },
   "source": [
    "Crew Column\n",
    "\n",
    "- Every row has input as a list of dictionaries.\n",
    "- We need name value from dictionary where job value is 'director'\n"
   ]
  },
  {
   "cell_type": "code",
   "execution_count": 24,
   "id": "39adc196",
   "metadata": {
    "execution": {
     "iopub.execute_input": "2024-05-23T07:24:03.706268Z",
     "iopub.status.busy": "2024-05-23T07:24:03.705835Z",
     "iopub.status.idle": "2024-05-23T07:24:03.712272Z",
     "shell.execute_reply": "2024-05-23T07:24:03.711033Z"
    },
    "papermill": {
     "duration": 0.02594,
     "end_time": "2024-05-23T07:24:03.714752",
     "exception": false,
     "start_time": "2024-05-23T07:24:03.688812",
     "status": "completed"
    },
    "tags": []
   },
   "outputs": [],
   "source": [
    "def fetch_director(obj):\n",
    "    L=[]\n",
    "    for i in ast.literal_eval(obj):\n",
    "        if i['job'] == 'Director':\n",
    "            L.append(i['name'])\n",
    "            break\n",
    "    return L\n",
    "            "
   ]
  },
  {
   "cell_type": "code",
   "execution_count": 25,
   "id": "034aa4a6",
   "metadata": {
    "execution": {
     "iopub.execute_input": "2024-05-23T07:24:03.748639Z",
     "iopub.status.busy": "2024-05-23T07:24:03.747472Z",
     "iopub.status.idle": "2024-05-23T07:24:08.361688Z",
     "shell.execute_reply": "2024-05-23T07:24:08.360135Z"
    },
    "papermill": {
     "duration": 4.634737,
     "end_time": "2024-05-23T07:24:08.364823",
     "exception": false,
     "start_time": "2024-05-23T07:24:03.730086",
     "status": "completed"
    },
    "tags": []
   },
   "outputs": [],
   "source": [
    "df['crew'] = df['crew'].apply(fetch_director)"
   ]
  },
  {
   "cell_type": "code",
   "execution_count": 26,
   "id": "9aca6285",
   "metadata": {
    "execution": {
     "iopub.execute_input": "2024-05-23T07:24:08.399709Z",
     "iopub.status.busy": "2024-05-23T07:24:08.399260Z",
     "iopub.status.idle": "2024-05-23T07:24:08.429937Z",
     "shell.execute_reply": "2024-05-23T07:24:08.428554Z"
    },
    "papermill": {
     "duration": 0.051342,
     "end_time": "2024-05-23T07:24:08.433396",
     "exception": false,
     "start_time": "2024-05-23T07:24:08.382054",
     "status": "completed"
    },
    "tags": []
   },
   "outputs": [
    {
     "data": {
      "text/html": [
       "<div>\n",
       "<style scoped>\n",
       "    .dataframe tbody tr th:only-of-type {\n",
       "        vertical-align: middle;\n",
       "    }\n",
       "\n",
       "    .dataframe tbody tr th {\n",
       "        vertical-align: top;\n",
       "    }\n",
       "\n",
       "    .dataframe thead th {\n",
       "        text-align: right;\n",
       "    }\n",
       "</style>\n",
       "<table border=\"1\" class=\"dataframe\">\n",
       "  <thead>\n",
       "    <tr style=\"text-align: right;\">\n",
       "      <th></th>\n",
       "      <th>movie_id</th>\n",
       "      <th>title</th>\n",
       "      <th>overview</th>\n",
       "      <th>genres</th>\n",
       "      <th>keywords</th>\n",
       "      <th>cast</th>\n",
       "      <th>crew</th>\n",
       "    </tr>\n",
       "  </thead>\n",
       "  <tbody>\n",
       "    <tr>\n",
       "      <th>0</th>\n",
       "      <td>19995</td>\n",
       "      <td>Avatar</td>\n",
       "      <td>In the 22nd century, a paraplegic Marine is di...</td>\n",
       "      <td>[Action, Adventure, Fantasy, Science Fiction]</td>\n",
       "      <td>[culture clash, future, space war, space colon...</td>\n",
       "      <td>[Sam Worthington, Zoe Saldana, Sigourney Weave...</td>\n",
       "      <td>[James Cameron]</td>\n",
       "    </tr>\n",
       "    <tr>\n",
       "      <th>1</th>\n",
       "      <td>285</td>\n",
       "      <td>Pirates of the Caribbean: At World's End</td>\n",
       "      <td>Captain Barbossa, long believed to be dead, ha...</td>\n",
       "      <td>[Adventure, Fantasy, Action]</td>\n",
       "      <td>[ocean, drug abuse, exotic island, east india ...</td>\n",
       "      <td>[Johnny Depp, Orlando Bloom, Keira Knightley, ...</td>\n",
       "      <td>[Gore Verbinski]</td>\n",
       "    </tr>\n",
       "    <tr>\n",
       "      <th>2</th>\n",
       "      <td>206647</td>\n",
       "      <td>Spectre</td>\n",
       "      <td>A cryptic message from Bond’s past sends him o...</td>\n",
       "      <td>[Action, Adventure, Crime]</td>\n",
       "      <td>[spy, based on novel, secret agent, sequel, mi...</td>\n",
       "      <td>[Daniel Craig, Christoph Waltz, Léa Seydoux, R...</td>\n",
       "      <td>[Sam Mendes]</td>\n",
       "    </tr>\n",
       "    <tr>\n",
       "      <th>3</th>\n",
       "      <td>49026</td>\n",
       "      <td>The Dark Knight Rises</td>\n",
       "      <td>Following the death of District Attorney Harve...</td>\n",
       "      <td>[Action, Crime, Drama, Thriller]</td>\n",
       "      <td>[dc comics, crime fighter, terrorist, secret i...</td>\n",
       "      <td>[Christian Bale, Michael Caine, Gary Oldman, A...</td>\n",
       "      <td>[Christopher Nolan]</td>\n",
       "    </tr>\n",
       "    <tr>\n",
       "      <th>4</th>\n",
       "      <td>49529</td>\n",
       "      <td>John Carter</td>\n",
       "      <td>John Carter is a war-weary, former military ca...</td>\n",
       "      <td>[Action, Adventure, Science Fiction]</td>\n",
       "      <td>[based on novel, mars, medallion, space travel...</td>\n",
       "      <td>[Taylor Kitsch, Lynn Collins, Samantha Morton,...</td>\n",
       "      <td>[Andrew Stanton]</td>\n",
       "    </tr>\n",
       "  </tbody>\n",
       "</table>\n",
       "</div>"
      ],
      "text/plain": [
       "   movie_id                                     title  \\\n",
       "0     19995                                    Avatar   \n",
       "1       285  Pirates of the Caribbean: At World's End   \n",
       "2    206647                                   Spectre   \n",
       "3     49026                     The Dark Knight Rises   \n",
       "4     49529                               John Carter   \n",
       "\n",
       "                                            overview  \\\n",
       "0  In the 22nd century, a paraplegic Marine is di...   \n",
       "1  Captain Barbossa, long believed to be dead, ha...   \n",
       "2  A cryptic message from Bond’s past sends him o...   \n",
       "3  Following the death of District Attorney Harve...   \n",
       "4  John Carter is a war-weary, former military ca...   \n",
       "\n",
       "                                          genres  \\\n",
       "0  [Action, Adventure, Fantasy, Science Fiction]   \n",
       "1                   [Adventure, Fantasy, Action]   \n",
       "2                     [Action, Adventure, Crime]   \n",
       "3               [Action, Crime, Drama, Thriller]   \n",
       "4           [Action, Adventure, Science Fiction]   \n",
       "\n",
       "                                            keywords  \\\n",
       "0  [culture clash, future, space war, space colon...   \n",
       "1  [ocean, drug abuse, exotic island, east india ...   \n",
       "2  [spy, based on novel, secret agent, sequel, mi...   \n",
       "3  [dc comics, crime fighter, terrorist, secret i...   \n",
       "4  [based on novel, mars, medallion, space travel...   \n",
       "\n",
       "                                                cast                 crew  \n",
       "0  [Sam Worthington, Zoe Saldana, Sigourney Weave...      [James Cameron]  \n",
       "1  [Johnny Depp, Orlando Bloom, Keira Knightley, ...     [Gore Verbinski]  \n",
       "2  [Daniel Craig, Christoph Waltz, Léa Seydoux, R...         [Sam Mendes]  \n",
       "3  [Christian Bale, Michael Caine, Gary Oldman, A...  [Christopher Nolan]  \n",
       "4  [Taylor Kitsch, Lynn Collins, Samantha Morton,...     [Andrew Stanton]  "
      ]
     },
     "execution_count": 26,
     "metadata": {},
     "output_type": "execute_result"
    }
   ],
   "source": [
    "df.head()"
   ]
  },
  {
   "cell_type": "code",
   "execution_count": 27,
   "id": "271ea55e",
   "metadata": {
    "execution": {
     "iopub.execute_input": "2024-05-23T07:24:08.476003Z",
     "iopub.status.busy": "2024-05-23T07:24:08.475215Z",
     "iopub.status.idle": "2024-05-23T07:24:08.481883Z",
     "shell.execute_reply": "2024-05-23T07:24:08.480344Z"
    },
    "papermill": {
     "duration": 0.030507,
     "end_time": "2024-05-23T07:24:08.485833",
     "exception": false,
     "start_time": "2024-05-23T07:24:08.455326",
     "status": "completed"
    },
    "tags": []
   },
   "outputs": [],
   "source": [
    "def collapse(L):\n",
    "    L1 =[]\n",
    "    for i in L:\n",
    "        L1.append(i.replace(\" \",\"\"))\n",
    "    return L1"
   ]
  },
  {
   "cell_type": "code",
   "execution_count": 28,
   "id": "15057622",
   "metadata": {
    "execution": {
     "iopub.execute_input": "2024-05-23T07:24:08.520939Z",
     "iopub.status.busy": "2024-05-23T07:24:08.520511Z",
     "iopub.status.idle": "2024-05-23T07:24:08.571982Z",
     "shell.execute_reply": "2024-05-23T07:24:08.570571Z"
    },
    "papermill": {
     "duration": 0.07175,
     "end_time": "2024-05-23T07:24:08.574825",
     "exception": false,
     "start_time": "2024-05-23T07:24:08.503075",
     "status": "completed"
    },
    "tags": []
   },
   "outputs": [],
   "source": [
    "df['cast'] = df['cast'].apply(collapse)\n",
    "df['crew'] = df['crew'].apply(collapse)\n",
    "df['keywords'] = df['keywords'].apply(collapse)\n",
    "df['genres'] = df['genres'].apply(collapse)"
   ]
  },
  {
   "cell_type": "code",
   "execution_count": 29,
   "id": "313fbe34",
   "metadata": {
    "execution": {
     "iopub.execute_input": "2024-05-23T07:24:08.610254Z",
     "iopub.status.busy": "2024-05-23T07:24:08.609366Z",
     "iopub.status.idle": "2024-05-23T07:24:08.627449Z",
     "shell.execute_reply": "2024-05-23T07:24:08.626374Z"
    },
    "papermill": {
     "duration": 0.038781,
     "end_time": "2024-05-23T07:24:08.630074",
     "exception": false,
     "start_time": "2024-05-23T07:24:08.591293",
     "status": "completed"
    },
    "tags": []
   },
   "outputs": [],
   "source": [
    "df['tags'] = df['genres'] + df['keywords'] + df['cast'] + df['crew']"
   ]
  },
  {
   "cell_type": "code",
   "execution_count": 30,
   "id": "1adae44e",
   "metadata": {
    "execution": {
     "iopub.execute_input": "2024-05-23T07:24:08.665075Z",
     "iopub.status.busy": "2024-05-23T07:24:08.663664Z",
     "iopub.status.idle": "2024-05-23T07:24:08.671400Z",
     "shell.execute_reply": "2024-05-23T07:24:08.670447Z"
    },
    "papermill": {
     "duration": 0.027723,
     "end_time": "2024-05-23T07:24:08.673821",
     "exception": false,
     "start_time": "2024-05-23T07:24:08.646098",
     "status": "completed"
    },
    "tags": []
   },
   "outputs": [],
   "source": [
    "data = df.drop(columns = ['overview','genres','keywords','cast','crew'])"
   ]
  },
  {
   "cell_type": "code",
   "execution_count": 31,
   "id": "a9ac609c",
   "metadata": {
    "execution": {
     "iopub.execute_input": "2024-05-23T07:24:08.708000Z",
     "iopub.status.busy": "2024-05-23T07:24:08.707083Z",
     "iopub.status.idle": "2024-05-23T07:24:08.719490Z",
     "shell.execute_reply": "2024-05-23T07:24:08.717981Z"
    },
    "papermill": {
     "duration": 0.032779,
     "end_time": "2024-05-23T07:24:08.722457",
     "exception": false,
     "start_time": "2024-05-23T07:24:08.689678",
     "status": "completed"
    },
    "tags": []
   },
   "outputs": [],
   "source": [
    "data['tags'] = data['tags'].apply(lambda x: \" \".join(x))"
   ]
  },
  {
   "cell_type": "code",
   "execution_count": 32,
   "id": "cb57428a",
   "metadata": {
    "execution": {
     "iopub.execute_input": "2024-05-23T07:24:08.756153Z",
     "iopub.status.busy": "2024-05-23T07:24:08.755733Z",
     "iopub.status.idle": "2024-05-23T07:24:08.767847Z",
     "shell.execute_reply": "2024-05-23T07:24:08.766374Z"
    },
    "papermill": {
     "duration": 0.031488,
     "end_time": "2024-05-23T07:24:08.770216",
     "exception": false,
     "start_time": "2024-05-23T07:24:08.738728",
     "status": "completed"
    },
    "tags": []
   },
   "outputs": [],
   "source": [
    "data['tags'] = data['tags'].apply(lambda x:x.lower())"
   ]
  },
  {
   "cell_type": "code",
   "execution_count": 33,
   "id": "c9d9dedc",
   "metadata": {
    "execution": {
     "iopub.execute_input": "2024-05-23T07:24:08.804522Z",
     "iopub.status.busy": "2024-05-23T07:24:08.803767Z",
     "iopub.status.idle": "2024-05-23T07:24:08.809494Z",
     "shell.execute_reply": "2024-05-23T07:24:08.808262Z"
    },
    "papermill": {
     "duration": 0.026581,
     "end_time": "2024-05-23T07:24:08.812560",
     "exception": false,
     "start_time": "2024-05-23T07:24:08.785979",
     "status": "completed"
    },
    "tags": []
   },
   "outputs": [],
   "source": [
    "ps = PorterStemmer()\n",
    "\n",
    "def stem(text):\n",
    "    y = []\n",
    "    for i in text.split():\n",
    "        y.append(ps.stem(i))\n",
    "    return \" \".join(y)"
   ]
  },
  {
   "cell_type": "code",
   "execution_count": 34,
   "id": "2e5c2f5a",
   "metadata": {
    "execution": {
     "iopub.execute_input": "2024-05-23T07:24:08.845852Z",
     "iopub.status.busy": "2024-05-23T07:24:08.845162Z",
     "iopub.status.idle": "2024-05-23T07:24:11.902291Z",
     "shell.execute_reply": "2024-05-23T07:24:11.901269Z"
    },
    "papermill": {
     "duration": 3.076519,
     "end_time": "2024-05-23T07:24:11.904871",
     "exception": false,
     "start_time": "2024-05-23T07:24:08.828352",
     "status": "completed"
    },
    "tags": []
   },
   "outputs": [],
   "source": [
    "data['tags'] = data['tags'].apply(stem)"
   ]
  },
  {
   "cell_type": "code",
   "execution_count": 35,
   "id": "ecd33d55",
   "metadata": {
    "execution": {
     "iopub.execute_input": "2024-05-23T07:24:11.938323Z",
     "iopub.status.busy": "2024-05-23T07:24:11.937911Z",
     "iopub.status.idle": "2024-05-23T07:24:12.276956Z",
     "shell.execute_reply": "2024-05-23T07:24:12.275546Z"
    },
    "papermill": {
     "duration": 0.359331,
     "end_time": "2024-05-23T07:24:12.280398",
     "exception": false,
     "start_time": "2024-05-23T07:24:11.921067",
     "status": "completed"
    },
    "tags": []
   },
   "outputs": [],
   "source": [
    "cv = CountVectorizer(max_features = 5000 , stop_words = 'english')\n",
    "vectors = cv.fit_transform(data['tags']).toarray()"
   ]
  },
  {
   "cell_type": "code",
   "execution_count": 36,
   "id": "4bbe65f3",
   "metadata": {
    "execution": {
     "iopub.execute_input": "2024-05-23T07:24:12.316238Z",
     "iopub.status.busy": "2024-05-23T07:24:12.315802Z",
     "iopub.status.idle": "2024-05-23T07:24:12.320776Z",
     "shell.execute_reply": "2024-05-23T07:24:12.319517Z"
    },
    "papermill": {
     "duration": 0.024825,
     "end_time": "2024-05-23T07:24:12.323587",
     "exception": false,
     "start_time": "2024-05-23T07:24:12.298762",
     "status": "completed"
    },
    "tags": []
   },
   "outputs": [],
   "source": [
    "# for i in cv.get_feature_names_out():\n",
    "#     print(i)"
   ]
  },
  {
   "cell_type": "code",
   "execution_count": 37,
   "id": "aeffdbd7",
   "metadata": {
    "execution": {
     "iopub.execute_input": "2024-05-23T07:24:12.359167Z",
     "iopub.status.busy": "2024-05-23T07:24:12.358752Z",
     "iopub.status.idle": "2024-05-23T07:24:14.662448Z",
     "shell.execute_reply": "2024-05-23T07:24:14.660525Z"
    },
    "papermill": {
     "duration": 2.326169,
     "end_time": "2024-05-23T07:24:14.667243",
     "exception": false,
     "start_time": "2024-05-23T07:24:12.341074",
     "status": "completed"
    },
    "tags": []
   },
   "outputs": [
    {
     "data": {
      "text/plain": [
       "(4806, 4806)"
      ]
     },
     "execution_count": 37,
     "metadata": {},
     "output_type": "execute_result"
    }
   ],
   "source": [
    "similarity = cosine_similarity(vectors)\n",
    "similarity.shape"
   ]
  },
  {
   "cell_type": "code",
   "execution_count": 38,
   "id": "218c1338",
   "metadata": {
    "execution": {
     "iopub.execute_input": "2024-05-23T07:24:14.703764Z",
     "iopub.status.busy": "2024-05-23T07:24:14.702767Z",
     "iopub.status.idle": "2024-05-23T07:24:14.709266Z",
     "shell.execute_reply": "2024-05-23T07:24:14.708363Z"
    },
    "papermill": {
     "duration": 0.026285,
     "end_time": "2024-05-23T07:24:14.712028",
     "exception": false,
     "start_time": "2024-05-23T07:24:14.685743",
     "status": "completed"
    },
    "tags": []
   },
   "outputs": [],
   "source": [
    "def recommend(movie):\n",
    "    movie_index = data[data['title'] == movie].index[0]\n",
    "    distances = similarity[movie_index]\n",
    "    recommend_list = sorted(list(enumerate(distances)),reverse = True , key = lambda x:x[1])[1:6]\n",
    "    \n",
    "    for i in recommend_list:\n",
    "        print(data.iloc[i[0]].title)\n",
    "    "
   ]
  },
  {
   "cell_type": "code",
   "execution_count": 39,
   "id": "0d6f0383",
   "metadata": {
    "execution": {
     "iopub.execute_input": "2024-05-23T07:24:14.809117Z",
     "iopub.status.busy": "2024-05-23T07:24:14.808507Z",
     "iopub.status.idle": "2024-05-23T07:24:14.820767Z",
     "shell.execute_reply": "2024-05-23T07:24:14.819563Z"
    },
    "papermill": {
     "duration": 0.032819,
     "end_time": "2024-05-23T07:24:14.823697",
     "exception": false,
     "start_time": "2024-05-23T07:24:14.790878",
     "status": "completed"
    },
    "tags": []
   },
   "outputs": [
    {
     "name": "stdout",
     "output_type": "stream",
     "text": [
      "Star Trek Into Darkness\n",
      "The Lovers\n",
      "Megaforce\n",
      "Jupiter Ascending\n",
      "Sheena\n"
     ]
    }
   ],
   "source": [
    "recommend('Avatar')"
   ]
  },
  {
   "cell_type": "code",
   "execution_count": 42,
   "id": "69c6ea96",
   "metadata": {},
   "outputs": [],
   "source": [
    "pickle.dump(data,open('movies.pkl','wb'))\n",
    "pickle.dump(similarity,open('similarity.pkl','wb'))\n"
   ]
  }
 ],
 "metadata": {
  "kaggle": {
   "accelerator": "none",
   "dataSources": [
    {
     "datasetId": 138,
     "sourceId": 4508,
     "sourceType": "datasetVersion"
    }
   ],
   "dockerImageVersionId": 30698,
   "isGpuEnabled": false,
   "isInternetEnabled": true,
   "language": "python",
   "sourceType": "notebook"
  },
  "kernelspec": {
   "display_name": "Python 3",
   "language": "python",
   "name": "python3"
  },
  "language_info": {
   "codemirror_mode": {
    "name": "ipython",
    "version": 3
   },
   "file_extension": ".py",
   "mimetype": "text/x-python",
   "name": "python",
   "nbconvert_exporter": "python",
   "pygments_lexer": "ipython3",
   "version": "3.11.3"
  },
  "papermill": {
   "default_parameters": {},
   "duration": 26.250017,
   "end_time": "2024-05-23T07:24:15.562896",
   "environment_variables": {},
   "exception": null,
   "input_path": "__notebook__.ipynb",
   "output_path": "__notebook__.ipynb",
   "parameters": {},
   "start_time": "2024-05-23T07:23:49.312879",
   "version": "2.5.0"
  }
 },
 "nbformat": 4,
 "nbformat_minor": 5
}
